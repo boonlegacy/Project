{
 "cells": [
  {
   "cell_type": "markdown",
   "id": "a2060a27-cb87-41bc-a361-872a89889bd4",
   "metadata": {},
   "source": [
    "BMI Calculator"
   ]
  },
  {
   "cell_type": "code",
   "execution_count": null,
   "id": "fb9889f4-c710-4294-b865-41f20228e02d",
   "metadata": {},
   "outputs": [],
   "source": []
  },
  {
   "cell_type": "code",
   "execution_count": 2,
   "id": "0b92f8b4-897c-416f-bb08-e277c07e41e7",
   "metadata": {},
   "outputs": [
    {
     "name": "stdin",
     "output_type": "stream",
     "text": [
      "Masukkan nama nas\n",
      "Masukkan berat dalam kg: 53.4\n",
      "Masukkan tinggi dalam m: 1.69\n"
     ]
    },
    {
     "name": "stdout",
     "output_type": "stream",
     "text": [
      "18.696824340884426\n"
     ]
    }
   ],
   "source": [
    "name = input('Masukkan nama')\n",
    "\n",
    "berat = float(input('Masukkan berat dalam kg:'))\n",
    "\n",
    "tinggi = float(input('Masukkan tinggi dalam m:'))\n",
    "\n",
    "BMI = (berat)/(tinggi**2)\n",
    "\n",
    "print(BMI)"
   ]
  },
  {
   "cell_type": "code",
   "execution_count": null,
   "id": "0424e0a7-f6b5-41b2-81ec-4bbc06a41b2e",
   "metadata": {},
   "outputs": [],
   "source": []
  },
  {
   "cell_type": "code",
   "execution_count": null,
   "id": "78579f38-715a-49a2-868a-6a34bd701a58",
   "metadata": {},
   "outputs": [],
   "source": [
    "BMI\tWeight Status\n",
    "Below 18.5\tUnderweight\n",
    "18.5 – 24.9\tNormal\n",
    "25.0 – 29.9\tOverweight\n",
    "30.0 and Above\tObese"
   ]
  },
  {
   "cell_type": "code",
   "execution_count": null,
   "id": "c3016c46-a37b-4a2a-9120-ec5e9e04c91d",
   "metadata": {},
   "outputs": [],
   "source": []
  },
  {
   "cell_type": "code",
   "execution_count": 14,
   "id": "3659be9f-ad4f-4a15-b82a-4cfd25acb12e",
   "metadata": {},
   "outputs": [
    {
     "name": "stdout",
     "output_type": "stream",
     "text": [
      "mantap bro berat kau normal.\n"
     ]
    }
   ],
   "source": [
    "if BMI > 0:\n",
    "    if(BMI<18.5):\n",
    "        print('kau underweight bro makan banyak sikit.')\n",
    "    elif(BMI<=24.9):\n",
    "        print('mantap bro berat kau normal.') \n",
    "    elif(BMI<=29.9):\n",
    "        print('aduh mat kau dah masuk kategori obes, jaga makan pliss.')\n",
    "    else:\n",
    "        print('Masukkan lah data kau bebetul')"
   ]
  },
  {
   "cell_type": "code",
   "execution_count": null,
   "id": "d14bda98-1d87-4d50-ac0a-9d325e02b76d",
   "metadata": {},
   "outputs": [],
   "source": []
  },
  {
   "cell_type": "code",
   "execution_count": null,
   "id": "48e909c5-4068-4ace-b3cf-9bcedf3e8884",
   "metadata": {},
   "outputs": [],
   "source": []
  },
  {
   "cell_type": "code",
   "execution_count": null,
   "id": "a2ccd8c2-0301-42b7-9631-9a9b5afeb26e",
   "metadata": {},
   "outputs": [],
   "source": []
  },
  {
   "cell_type": "code",
   "execution_count": null,
   "id": "56f6d4fc-db31-4a19-97b3-e1a487a28db4",
   "metadata": {},
   "outputs": [],
   "source": []
  },
  {
   "cell_type": "code",
   "execution_count": null,
   "id": "a10e4a2b-4972-48ce-b64e-3a4ffcb71411",
   "metadata": {},
   "outputs": [],
   "source": []
  },
  {
   "cell_type": "code",
   "execution_count": null,
   "id": "81a20648-1548-4fc8-b2d4-802e55a5014c",
   "metadata": {},
   "outputs": [],
   "source": []
  },
  {
   "cell_type": "code",
   "execution_count": null,
   "id": "f1073888-d894-487e-ba54-439d452270fc",
   "metadata": {},
   "outputs": [],
   "source": []
  },
  {
   "cell_type": "code",
   "execution_count": null,
   "id": "946c43f3-7348-4b7f-b445-e8cd516c4db2",
   "metadata": {},
   "outputs": [],
   "source": []
  },
  {
   "cell_type": "code",
   "execution_count": null,
   "id": "01a1bbc9-dde1-4ad2-9f48-9760d91df387",
   "metadata": {},
   "outputs": [],
   "source": []
  },
  {
   "cell_type": "code",
   "execution_count": null,
   "id": "07100e00-acc9-46ce-ae9e-c937f0cc47cd",
   "metadata": {},
   "outputs": [],
   "source": []
  },
  {
   "cell_type": "code",
   "execution_count": null,
   "id": "2c6292e8-df23-4cfe-b99c-d6d8b3a8374d",
   "metadata": {},
   "outputs": [],
   "source": []
  },
  {
   "cell_type": "markdown",
   "id": "cdf873f0-b2cc-4a1a-ba82-4e53146405ad",
   "metadata": {},
   "source": []
  }
 ],
 "metadata": {
  "kernelspec": {
   "display_name": "Python [conda env:base] *",
   "language": "python",
   "name": "conda-base-py"
  },
  "language_info": {
   "codemirror_mode": {
    "name": "ipython",
    "version": 3
   },
   "file_extension": ".py",
   "mimetype": "text/x-python",
   "name": "python",
   "nbconvert_exporter": "python",
   "pygments_lexer": "ipython3",
   "version": "3.12.7"
  }
 },
 "nbformat": 4,
 "nbformat_minor": 5
}
