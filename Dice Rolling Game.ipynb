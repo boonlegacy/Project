{
 "cells": [
  {
   "cell_type": "code",
   "execution_count": null,
   "id": "3329230e-5fde-48ec-8e2d-02467eb34e6b",
   "metadata": {},
   "outputs": [],
   "source": [
    "#Ask:roll the dice?\n",
    "#if user enters y\n",
    "#generate two random numbers\n",
    "#print them\n",
    "#if user enter n\n",
    "#print thank you message\n",
    "#terminate\n",
    "#else\n",
    "#print invalid"
   ]
  },
  {
   "cell_type": "code",
   "execution_count": 3,
   "id": "28e378e3-7d9a-42f5-a028-94b7eb248cab",
   "metadata": {},
   "outputs": [
    {
     "name": "stdin",
     "output_type": "stream",
     "text": [
      "roll the dice? (y/n):  r\n"
     ]
    },
    {
     "name": "stdout",
     "output_type": "stream",
     "text": [
      "Invalid choice!\n"
     ]
    },
    {
     "name": "stdin",
     "output_type": "stream",
     "text": [
      "roll the dice? (y/n):  e\n"
     ]
    },
    {
     "name": "stdout",
     "output_type": "stream",
     "text": [
      "Invalid choice!\n"
     ]
    },
    {
     "name": "stdin",
     "output_type": "stream",
     "text": [
      "roll the dice? (y/n):  y\n"
     ]
    },
    {
     "name": "stdout",
     "output_type": "stream",
     "text": [
      "(2,1)\n"
     ]
    },
    {
     "name": "stdin",
     "output_type": "stream",
     "text": [
      "roll the dice? (y/n):  e\n"
     ]
    },
    {
     "name": "stdout",
     "output_type": "stream",
     "text": [
      "Invalid choice!\n"
     ]
    },
    {
     "name": "stdin",
     "output_type": "stream",
     "text": [
      "roll the dice? (y/n):  w\n"
     ]
    },
    {
     "name": "stdout",
     "output_type": "stream",
     "text": [
      "Invalid choice!\n"
     ]
    },
    {
     "name": "stdin",
     "output_type": "stream",
     "text": [
      "roll the dice? (y/n):  g\n"
     ]
    },
    {
     "name": "stdout",
     "output_type": "stream",
     "text": [
      "Invalid choice!\n"
     ]
    },
    {
     "name": "stdin",
     "output_type": "stream",
     "text": [
      "roll the dice? (y/n):  n\n"
     ]
    },
    {
     "name": "stdout",
     "output_type": "stream",
     "text": [
      "Thanks for playing!\n"
     ]
    }
   ],
   "source": [
    "import random\n",
    "\n",
    "while True:\n",
    "    try:\n",
    "        choice = input('roll the dice? (y/n): ').lower()\n",
    "        if choice == 'y':\n",
    "            die1 = random.randint(1,6)\n",
    "            die2 = random.randint(1,6)\n",
    "            print(f'({die1},{die2})')  \n",
    "        elif choice =='n':\n",
    "            print('Thanks for playing!')\n",
    "            break\n",
    "        else:\n",
    "            print('Invalid choice!')  \n",
    "    except ValueError:\n",
    "        print('Please enter a valid alphabet')"
   ]
  }
 ],
 "metadata": {
  "kernelspec": {
   "display_name": "Python [conda env:base] *",
   "language": "python",
   "name": "conda-base-py"
  },
  "language_info": {
   "codemirror_mode": {
    "name": "ipython",
    "version": 3
   },
   "file_extension": ".py",
   "mimetype": "text/x-python",
   "name": "python",
   "nbconvert_exporter": "python",
   "pygments_lexer": "ipython3",
   "version": "3.12.7"
  }
 },
 "nbformat": 4,
 "nbformat_minor": 5
}
